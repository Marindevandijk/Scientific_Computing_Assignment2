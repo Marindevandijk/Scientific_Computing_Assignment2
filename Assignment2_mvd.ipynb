{
 "cells": [
  {
   "cell_type": "code",
   "execution_count": 1,
   "id": "fc98bd83-ddcc-4b87-a7f2-543ecc6eef9e",
   "metadata": {},
   "outputs": [],
   "source": [
    "import numpy as np\n",
    "import matplotlib.pyplot as plt"
   ]
  },
  {
   "cell_type": "code",
   "execution_count": 16,
   "id": "3215b5a0-8422-49ee-bf40-6a18c8524e05",
   "metadata": {},
   "outputs": [
    {
     "name": "stdout",
     "output_type": "stream",
     "text": [
      "[[0. 0. 0. 0. 0. 0. 0. 0. 0. 0.]\n",
      " [0. 0. 0. 0. 0. 0. 0. 0. 0. 0.]\n",
      " [0. 0. 0. 0. 0. 0. 0. 0. 0. 0.]\n",
      " [0. 0. 0. 0. 0. 0. 0. 0. 0. 0.]\n",
      " [0. 0. 0. 0. 0. 0. 0. 0. 0. 0.]\n",
      " [0. 0. 0. 0. 0. 0. 0. 0. 0. 0.]\n",
      " [0. 0. 0. 0. 0. 0. 0. 0. 0. 0.]\n",
      " [0. 0. 0. 0. 0. 0. 0. 0. 0. 0.]\n",
      " [0. 0. 0. 0. 0. 0. 0. 0. 0. 0.]\n",
      " [0. 0. 0. 0. 1. 0. 0. 0. 0. 0.]]\n"
     ]
    }
   ],
   "source": [
    "# initalise concentration field with linear field \n",
    "N = 10\n",
    "y = np.linspace(N,1,N)\n",
    "max_growth = 100\n",
    "eta = 1\n",
    "\n",
    "c_current = np.zeros((N,N))\n",
    "c_current[:,] = y.reshape(N, 1)\n",
    "# start with bottom point\n",
    "\n",
    "c_current[4,0]= 0 \n",
    "# calculate SOR \n",
    "\n",
    "\n",
    "c_current = np.zeros((N,N))\n",
    "c_current[:,] = y.reshape(N, 1)\n",
    "\n",
    "grid  = np.zeros((N,N))\n",
    "grid[-1,4]= 1\n",
    "print(grid)\n",
    "\n",
    "\n",
    "for i in range (1,max_growth):\n",
    "    candidates = []\n",
    "    \n",
    "        #for _ in range(i)   range over how many points are already sink if we are at iteration 1 then there is one point to check its 1\n",
    "        # if c\n",
    "    \n",
    "\n",
    "\n",
    "# \n",
    "\n",
    "\n",
    "    \n",
    "def SOR_object(c_last, w, epsilon,N):\n",
    "    c_current = c_last.copy()\n",
    "    c_next = np.zeros((N, N))\n",
    "\n",
    "    c_current[-1, :] = 0\n",
    "    c_current[0, :] = 1  \n",
    "\n",
    "    iteration = 0\n",
    "    grid = object(N,object_size,number_objects)\n",
    "    while iteration < max_iter:\n",
    "        c_next = c_current.copy()  \n",
    "\n",
    "        for i in range(1,N-1):\n",
    "            for j in range(1,N-1):\n",
    "                if c_last[i, j]== 0:\n",
    "                    c_next[i,j] = 0\n",
    "                else:\n",
    "                    c_next[i,j] = (w/4)*(c_current[(i+1)%N,j] + c_next[(i-1)%N,j] +c_current[i,j+1] +c_next[i,j-1]) + (1-w)*c_current[i,j]\n",
    "\n",
    "        c_next[-1, :] = 0\n",
    "        c_next[0, :] = 1\n",
    "        c_next[:, 0] = c_next[:, 1]\n",
    "        c_next[:, -1] = c_next[:, -2]\n",
    "\n",
    "        delta = np.max(np.abs(c_next - c_current))\n",
    "        if delta < epsilon:\n",
    "            return c_current, iteration\n",
    "\n",
    "        c_current[:, :] = c_next[:, :]\n",
    "        iteration += 1\n",
    "    return c_current, iteration\n",
    "\n",
    "# then locating growth candidates aroundthe cluster, and \n",
    "\n",
    "#assigning a growth probability pg for each growth candidate, as a function of the concentration of diffusing nutrients at that growth location. Next,\n",
    "#a single growth candidate is added to the cluster with probability pg .\n",
    "#After thisgrowth step, the diffusion equation is again solved, and the process is iterated for\n",
    "#a large number of growth steps."
   ]
  },
  {
   "cell_type": "code",
   "execution_count": null,
   "id": "26374b6e-0300-4598-a5bc-2d3e497a9d7a",
   "metadata": {},
   "outputs": [],
   "source": []
  },
  {
   "cell_type": "code",
   "execution_count": null,
   "id": "0feb7524-9863-40a5-aed0-eb7ba00b2f82",
   "metadata": {},
   "outputs": [],
   "source": []
  }
 ],
 "metadata": {
  "kernelspec": {
   "display_name": "Python 3 (ipykernel)",
   "language": "python",
   "name": "python3"
  },
  "language_info": {
   "codemirror_mode": {
    "name": "ipython",
    "version": 3
   },
   "file_extension": ".py",
   "mimetype": "text/x-python",
   "name": "python",
   "nbconvert_exporter": "python",
   "pygments_lexer": "ipython3",
   "version": "3.12.2"
  }
 },
 "nbformat": 4,
 "nbformat_minor": 5
}
