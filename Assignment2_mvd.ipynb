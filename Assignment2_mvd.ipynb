{
 "cells": [
  {
   "cell_type": "code",
   "execution_count": 2,
   "id": "fc98bd83-ddcc-4b87-a7f2-543ecc6eef9e",
   "metadata": {},
   "outputs": [],
   "source": [
    "import numpy as np\n",
    "import matplotlib.pyplot as plt\n",
    "import random"
   ]
  },
  {
   "cell_type": "code",
   "execution_count": 3,
   "id": "5877f1b9-38f9-4bbd-b1c5-d8341090c69f",
   "metadata": {},
   "outputs": [
    {
     "name": "stdout",
     "output_type": "stream",
     "text": [
      "[[1, 2], [2, 3]]\n"
     ]
    }
   ],
   "source": [
    "list = []\n",
    "list.append([1,2])\n",
    "list.append([2,3])\n",
    "print(list)"
   ]
  },
  {
   "cell_type": "code",
   "execution_count": null,
   "id": "26374b6e-0300-4598-a5bc-2d3e497a9d7a",
   "metadata": {},
   "outputs": [],
   "source": [
    "# initalise concentration field with linear field \n",
    "N = 100\n",
    "y = np.linspace(N,1,N)\n",
    "max_growth = 500\n",
    "eta = 1\n",
    "max_iter = 10000\n",
    "\n",
    "def SOR_object(c_last,N, grid , w, epsilon):\n",
    "    c_current = c_last.copy()\n",
    "    c_next = np.zeros((N, N))\n",
    "\n",
    "    c_current[-1, :] = 0\n",
    "    c_current[0, :] = 1 \n",
    "    iteration = 0\n",
    "    while iteration < max_iter:\n",
    "        c_next = c_current.copy()  \n",
    "\n",
    "        for i in range(0, N):\n",
    "            for j in range(0, N):\n",
    "                if grid[i, j] == 1: \n",
    "                    c_next[i, j] = 0\n",
    "                elif 0 < i < N-1 and 0 < j < N-1: \n",
    "                    c_next[i, j] = (w / 4) * (c_current[i+1, j] + c_next[i-1, j] + c_current[i, j+1] + c_next[i, j-1]) + (1-w) * c_current[i, j]\n",
    "        #c_next[-1, :] = 0\n",
    "        #c_next[0, :] = 1\n",
    "        c_next[:, 0] = c_next[:, 1]\n",
    "        c_next[:, -1] = c_next[:, -2]\n",
    "\n",
    "        delta = np.max(np.abs(c_next - c_current))\n",
    "        if delta < epsilon:\n",
    "            return c_current, iteration\n",
    "\n",
    "        c_current[:, :] = c_next[:, :]\n",
    "        iteration += 1\n",
    "    return c_current, iteration\n",
    "\n",
    "def find_candidates(grid):\n",
    "    candidates = []\n",
    "    for i in range(N):\n",
    "        for j in range(N):\n",
    "            if grid[i, j] == 1: \n",
    "                if i + 1 < N and grid[i + 1, j] == 0 and (i + 1, j) not in candidates:\n",
    "                    candidates.append((i + 1, j))\n",
    "                if i - 1 >= 0 and grid[i - 1, j] == 0 and (i - 1, j) not in candidates:\n",
    "                    candidates.append((i - 1, j))\n",
    "                if j + 1 < N and grid[i, j + 1] == 0 and (i, j + 1) not in candidates:\n",
    "                    candidates.append((i, j + 1))\n",
    "                if j - 1 >= 0 and grid[i, j - 1] == 0 and (i, j - 1) not in candidates:\n",
    "                    candidates.append((i, j - 1))\n",
    "    return candidates\n",
    "\n",
    "def DLA(candidates,grid,eta):\n",
    "    #candidates = find_candidates()\n",
    "    probabilities = np.array([c_current[i, j]**eta for i, j in candidates])\n",
    "    probabilities /= probabilities.sum() \n",
    "\n",
    "    chosen_index = np.random.choice(len(candidates), p=probabilities)\n",
    "    chosen_point = candidates.pop(chosen_index) \n",
    "    grid[chosen_point] = 1  \n",
    "    candidates = find_candidates(grid)\n",
    "    return grid, candidates\n",
    "\n",
    "# one sinkpoint\n",
    "grid_start  = np.zeros((N,N))\n",
    "grid_start[-8,50]= 1\n",
    "#print(grid_start)\n",
    "\n",
    "c_current = np.zeros((N,N))\n",
    "c_current[:,] = y.reshape(N, 1)\n",
    "for i in range(max_growth):\n",
    "    c_new, iteration = SOR_object(c_current, N, grid_start.copy(), w=1.95, epsilon=1e-5)\n",
    "    candidates = find_candidates(grid_start)\n",
    "    #print(\"Candidates:\", candidates)\n",
    "    grid_new, candidates_new = DLA(candidates,grid_start,eta)\n",
    "    grid_start = grid_new\n",
    "\n",
    "plt.imshow(c_new, cmap=\"gray_r\")\n",
    "plt.title(\"DLA Growth Cluster\")\n",
    "plt.savefig(\"eta_1_500steps.png\", dpi=300)\n",
    "plt.show()"
   ]
  },
  {
   "cell_type": "code",
   "execution_count": null,
   "id": "4ff1de19-9e0b-499c-83b3-1c5dbde7cc11",
   "metadata": {},
   "outputs": [],
   "source": [
    "eta = 0.2\n",
    "grid_start  = np.zeros((N,N))\n",
    "grid_start[-8,50]= 1\n",
    "print(grid_start)\n",
    "\n",
    "c_current = np.zeros((N,N))\n",
    "c_current[:,] = y.reshape(N, 1)\n",
    "for i in range(max_growth):\n",
    "    c_new, iteration = SOR_object(c_current, N, grid_start, w=1.95, epsilon=1e-5)\n",
    "    candidates = find_candidates(grid_start)\n",
    "    #print(\"Candidates:\", candidates)\n",
    "    grid_new, candidates_new = DLA(candidates,grid_start,eta)\n",
    "    grid_start = grid_new\n",
    "\n",
    "plt.imshow(c_new, cmap=\"gray_r\")\n",
    "plt.title(\"DLA Growth Cluster\")\n",
    "plt.savefig(\"eta_0_2_500steps.png\", dpi=300)\n",
    "plt.show()"
   ]
  },
  {
   "cell_type": "code",
   "execution_count": null,
   "id": "6e9c06f6-56ee-4039-ade0-61f62bd72f29",
   "metadata": {},
   "outputs": [],
   "source": [
    "eta = 3\n",
    "grid_start  = np.zeros((N,N))\n",
    "grid_start[-8,50]= 1\n",
    "print(grid_start)\n",
    "\n",
    "c_current = np.zeros((N,N))\n",
    "c_current[:,] = y.reshape(N, 1)\n",
    "for i in range(max_growth):\n",
    "    c_new, iteration = SOR_object(c_current, N, grid_start, w=1.95, epsilon=1e-5)\n",
    "    candidates = find_candidates(grid_start)\n",
    "    #print(\"Candidates:\", candidates)\n",
    "    grid_new, candidates_new = DLA(candidates,grid_start,eta)\n",
    "    grid_start = grid_new\n",
    "\n",
    "plt.imshow(c_new, cmap=\"gray_r\")\n",
    "plt.title(\"DLA Growth Cluster\")\n",
    "plt.savefig(\"eta_3_500steps.png\", dpi=300)\n",
    "plt.show()"
   ]
  },
  {
   "cell_type": "code",
   "execution_count": null,
   "id": "f168924b-bd15-42b1-a715-ca52ed51f6a4",
   "metadata": {},
   "outputs": [],
   "source": []
  }
 ],
 "metadata": {
  "kernelspec": {
   "display_name": "Python 3 (ipykernel)",
   "language": "python",
   "name": "python3"
  },
  "language_info": {
   "codemirror_mode": {
    "name": "ipython",
    "version": 3
   },
   "file_extension": ".py",
   "mimetype": "text/x-python",
   "name": "python",
   "nbconvert_exporter": "python",
   "pygments_lexer": "ipython3",
   "version": "3.12.2"
  }
 },
 "nbformat": 4,
 "nbformat_minor": 5
}
