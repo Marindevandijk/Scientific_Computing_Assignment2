{
 "cells": [
  {
   "cell_type": "markdown",
   "metadata": {},
   "source": [
    "Exercise 2.2: Monte Carlo simulation of DLA"
   ]
  },
  {
   "cell_type": "code",
   "execution_count": 159,
   "metadata": {},
   "outputs": [],
   "source": [
    "import numpy as np\n",
    "import matplotlib.pyplot as plt\n",
    "import random"
   ]
  },
  {
   "cell_type": "code",
   "execution_count": 160,
   "metadata": {},
   "outputs": [],
   "source": [
    "N = 100"
   ]
  },
  {
   "cell_type": "code",
   "execution_count": 161,
   "metadata": {},
   "outputs": [],
   "source": [
    "def find_candidates(grid):\n",
    "    candidates = []\n",
    "    for i in range(N):\n",
    "        for j in range(N):\n",
    "            if grid[i, j] == 1: \n",
    "                if i + 1 < N and grid[i + 1, j] == 0 and (i + 1, j) not in candidates:\n",
    "                    candidates.append((i + 1, j))\n",
    "                if i - 1 >= 0 and grid[i - 1, j] == 0 and (i - 1, j) not in candidates:\n",
    "                    candidates.append((i - 1, j))\n",
    "                if j + 1 < N and grid[i, (j + 1)%N] == 0 and (i, j + 1) not in candidates: \n",
    "                    candidates.append((i, j + 1))\n",
    "                if j - 1 >= 0 and grid[i, (j - 1)%N] == 0 and (i, j - 1) not in candidates:\n",
    "                    candidates.append((i, j - 1))\n",
    "    return candidates\n"
   ]
  },
  {
   "cell_type": "code",
   "execution_count": 217,
   "metadata": {},
   "outputs": [],
   "source": [
    "x_pos = [np.random.randint(0,N)]\n",
    "y_pos = [0]\n",
    "\n",
    "MC_DLA_grid = np.zeros((N,N))\n",
    "MC_DLA_grid[N-1,50] = 1 #even zorgen dat dit overeenkomt met de vorige opgave\n",
    "candidates = find_candidates(MC_DLA_grid)\n",
    "t=0\n",
    "while t<600: #Fixen dat deze loop stopt als er bijv 150 hokjes geel zijn, het huidige is arbitrair 12100000\n",
    "    \n",
    "    if (y_pos[-1],x_pos[-1]) in candidates:\n",
    "        MC_DLA_grid[y_pos[-1],x_pos[-1]] = 1\n",
    "        t += 1\n",
    "        candidates = find_candidates(MC_DLA_grid)\n",
    "        x_pos.append(np.random.randint(0,N))\n",
    "        y_pos.append(0)\n",
    "    \n",
    "    else:\n",
    "        step = np.random.randint(0,4)\n",
    "\n",
    "        if step == 0 and y_pos[-1] != 0:\n",
    "            x_pos.append(x_pos[-1])\n",
    "            y_pos.append((y_pos[-1]-1))\n",
    "        elif step == 0 and y_pos[-1] == 0:\n",
    "            x_pos.append(np.random.randint(0,N))\n",
    "            y_pos.append(0)\n",
    "        elif step == 1 and y_pos[-1] != (N-1):\n",
    "            x_pos.append(x_pos[-1])\n",
    "            y_pos.append((y_pos[-1]+1))\n",
    "        elif step == 1 and y_pos[-1] == (N-1):\n",
    "            x_pos.append(np.random.randint(0,N))\n",
    "            y_pos.append(0)\n",
    "        elif step == 2 and x_pos[-1] != (N-1):\n",
    "            x_pos.append((x_pos[-1]+1))\n",
    "            y_pos.append(y_pos[-1])\n",
    "        elif step == 2 and x_pos[-1] == (N-1):\n",
    "            x_pos.append(0)\n",
    "            y_pos.append(y_pos[-1])\n",
    "        elif step == 3 and x_pos[-1] != 0: \n",
    "            x_pos.append((x_pos[-1]-1))\n",
    "            y_pos.append(y_pos[-1])\n",
    "        else:\n",
    "            x_pos.append((N-1))\n",
    "            y_pos.append(y_pos[-1])\n",
    "\n"
   ]
  },
  {
   "cell_type": "code",
   "execution_count": 218,
   "metadata": {},
   "outputs": [
    {
     "data": {
      "image/png": "[encoded data removed]",
      "text/plain": [
       "<Figure size 640x480 with 1 Axes>"
      ]
     },
     "metadata": {},
     "output_type": "display_data"
    }
   ],
   "source": [
    "plt.imshow(MC_DLA_grid)\n",
    "plt.xlabel('x',size=12)\n",
    "plt.ylabel('y',size=12)\n",
    "plt.title('Cluster DLA Random Walk, p=1',size=14)\n",
    "plt.show()"
   ]
  },
  {
   "cell_type": "markdown",
   "metadata": {},
   "source": [
    "======================================================================================================================================"
   ]
  },
  {
   "cell_type": "markdown",
   "metadata": {},
   "source": [
    "Monte Carlo simulation where the walker does not necessarily stick:"
   ]
  },
  {
   "cell_type": "code",
   "execution_count": 225,
   "metadata": {},
   "outputs": [],
   "source": [
    "#get ready for some of the least efficient code you have ever seen ;)\n",
    "\n",
    "x_pos = [np.random.randint(0,N)]\n",
    "y_pos = [0]\n",
    "\n",
    "\n",
    "p_stick = 0.125 #change to whichever value we desire\n",
    "\n",
    "MC_DLA_grid = np.zeros((N,N))\n",
    "MC_DLA_grid[N-1,50] = 1 #even zorgen dat dit overeenkomt met de vorige opgave\n",
    "candidates = find_candidates(MC_DLA_grid)\n",
    "t=0\n",
    "while t<600: #zelfde comment als bovenstaand\n",
    "    if (y_pos[-1],x_pos[-1]) in candidates:\n",
    "        stickyy = np.random.uniform(0,1)\n",
    "        if stickyy < p_stick:\n",
    "            MC_DLA_grid[y_pos[-1],x_pos[-1]] = 1\n",
    "            t += 1\n",
    "            candidates = find_candidates(MC_DLA_grid)\n",
    "            x_pos.append(np.random.randint(0,N))\n",
    "            y_pos.append(0)\n",
    "        else:\n",
    "            kans = []\n",
    "            if ((y_pos[-1] != 0) and MC_DLA_grid[(y_pos[-1]-1),x_pos[-1]] == 0) or (y_pos[-1] == 0):\n",
    "                kans.append(1)\n",
    "            if ((y_pos[-1] != (N-1)) and MC_DLA_grid[(y_pos[-1]+1),x_pos[-1]] == 0) or (y_pos[-1] == (N-1)): #this should also work if we are in the bottom of the domain\n",
    "                kans.append(2)\n",
    "            if (MC_DLA_grid[y_pos[-1],(x_pos[-1]-1)%N] == 0):\n",
    "                kans.append(3)\n",
    "            if (MC_DLA_grid[y_pos[-1],(x_pos[-1]+1)%N] == 0):\n",
    "                kans.append(4)\n",
    "            \n",
    "            if len(kans) == 0: #this statement should not be necessary\n",
    "                x_pos.append(np.random.randint(0,N))\n",
    "                y_pos.append(0)\n",
    "            else:\n",
    "                VVV = np.random.choice(kans)\n",
    "\n",
    "                if (VVV == 1):\n",
    "                    if (y_pos[-1] != 0):\n",
    "                        x_pos.append(x_pos[-1])\n",
    "                        y_pos.append((y_pos[-1]-1))\n",
    "                    else:\n",
    "                        x_pos.append(np.random.randint(0,N))\n",
    "                        y_pos.append(0)\n",
    "                if (VVV == 2):\n",
    "                    if (y_pos[-1] != (N-1)):\n",
    "                        x_pos.append(x_pos[-1])\n",
    "                        y_pos.append((y_pos[-1]+1))\n",
    "                    else:\n",
    "                        x_pos.append(np.random.randint(0,N))\n",
    "                        y_pos.append(0) \n",
    "                if VVV == 3 and x_pos[-1] != (N-1):\n",
    "                    x_pos.append((x_pos[-1]+1))\n",
    "                    y_pos.append(y_pos[-1])\n",
    "                if VVV == 3 and x_pos[-1] == (N-1):\n",
    "                    x_pos.append(0)\n",
    "                    y_pos.append(y_pos[-1])\n",
    "                if VVV == 4 and x_pos[-1] != 0: \n",
    "                    x_pos.append((x_pos[-1]-1))\n",
    "                    y_pos.append(y_pos[-1])\n",
    "                if VVV == 4 and x_pos[-1] == 0:\n",
    "                    x_pos.append((N-1))\n",
    "                    y_pos.append(y_pos[-1])\n",
    "    \n",
    "    else:\n",
    "        step = np.random.randint(0,4)\n",
    "\n",
    "        if step == 0 and y_pos[-1] != 0:\n",
    "            x_pos.append(x_pos[-1])\n",
    "            y_pos.append((y_pos[-1]-1))\n",
    "        elif step == 0 and y_pos[-1] == 0:\n",
    "            x_pos.append(np.random.randint(0,N))\n",
    "            y_pos.append(0)\n",
    "        elif step == 1 and y_pos[-1] != (N-1):\n",
    "            x_pos.append(x_pos[-1])\n",
    "            y_pos.append((y_pos[-1]+1))\n",
    "        elif step == 1 and y_pos[-1] == (N-1):\n",
    "            x_pos.append(np.random.randint(0,N))\n",
    "            y_pos.append(0)\n",
    "        elif step == 2 and x_pos[-1] != (N-1):\n",
    "            x_pos.append((x_pos[-1]+1))\n",
    "            y_pos.append(y_pos[-1])\n",
    "        elif step == 2 and x_pos[-1] == (N-1):\n",
    "            x_pos.append(0)\n",
    "            y_pos.append(y_pos[-1])\n",
    "        elif step == 3 and x_pos[-1] != 0: \n",
    "            x_pos.append((x_pos[-1]-1))\n",
    "            y_pos.append(y_pos[-1])\n",
    "        else:\n",
    "            x_pos.append((N-1))\n",
    "            y_pos.append(y_pos[-1])\n",
    "\n",
    "    "
   ]
  },
  {
   "cell_type": "code",
   "execution_count": 226,
   "metadata": {},
   "outputs": [
    {
     "data": {
      "image/png": "[encoded data removed]",
      "text/plain": [
       "<Figure size 640x480 with 1 Axes>"
      ]
     },
     "metadata": {},
     "output_type": "display_data"
    }
   ],
   "source": [
    "plt.imshow(MC_DLA_grid)\n",
    "plt.xlabel('x',size=12)\n",
    "plt.ylabel('y',size=12)\n",
    "plt.title('Cluster DLA Random Walk, p=0.125',size=14)\n",
    "plt.show()"
   ]
  },
  {
   "cell_type": "code",
   "execution_count": 194,
   "metadata": {},
   "outputs": [],
   "source": [
    "ffff = []"
   ]
  },
  {
   "cell_type": "code",
   "execution_count": 195,
   "metadata": {},
   "outputs": [
    {
     "data": {
      "text/plain": [
       "0"
      ]
     },
     "execution_count": 195,
     "metadata": {},
     "output_type": "execute_result"
    }
   ],
   "source": [
    "len(ffff)"
   ]
  }
 ],
 "metadata": {
  "kernelspec": {
   "display_name": "Python 3 (ipykernel)",
   "language": "python",
   "name": "python3"
  },
  "language_info": {
   "codemirror_mode": {
    "name": "ipython",
    "version": 3
   },
   "file_extension": ".py",
   "mimetype": "text/x-python",
   "name": "python",
   "nbconvert_exporter": "python",
   "pygments_lexer": "ipython3",
   "version": "3.12.2"
  }
 },
 "nbformat": 4,
 "nbformat_minor": 4
}
