{
 "cells": [
  {
   "cell_type": "markdown",
   "metadata": {},
   "source": [
    "Exercise 2.2: Monte Carlo simulation of DLA"
   ]
  },
  {
   "cell_type": "code",
   "execution_count": 3,
   "metadata": {},
   "outputs": [],
   "source": [
    "import numpy as np\n",
    "import random"
   ]
  },
  {
   "cell_type": "code",
   "execution_count": null,
   "metadata": {},
   "outputs": [],
   "source": [
    "N = 100"
   ]
  },
  {
   "cell_type": "code",
   "execution_count": null,
   "metadata": {},
   "outputs": [],
   "source": [
    "x_pos = [np.random.randint(0,N)]\n",
    "y_pos = [0]\n",
    "\n",
    "\n",
    "step = np.random.randint(0,4)\n",
    "\n",
    "if step == 0 and y_pos[-1] != 0:\n",
    "    x_pos.append(x_pos[-1])\n",
    "    y_pos.append((y_pos[-1]-1))\n",
    "elif step == 0 and y_pos[-1] == 0:\n",
    "    x_pos.append(np.random.randint(0,N))\n",
    "    y_pos.append(0)\n",
    "elif step == 1 and y_pos[-1] != (N-1):\n",
    "    x_pos.append(x_pos[-1])\n",
    "    y_pos.append((y_pos[-1]+1))\n",
    "elif step == 1 and y_pos[-1] == (N-1):\n",
    "    x_pos.append(np.random.randint(0,N))\n",
    "    y_pos.append(0)\n",
    "elif step == 2 and x_pos[-1] != (N-1):\n",
    "    x_pos.append((x_pos[-1]+1))\n",
    "    y_pos.append(y_pos[-1])\n",
    "elif step == 2 and x_pos[-1] == (N-1):\n",
    "    x_pos.append(0)\n",
    "    y_pos.append(y_pos[-1])\n",
    "elif step == 3 and x_pos[-1] != 0: \n",
    "    x_pos.append((x_pos[-1]-1))\n",
    "    y_pos.append(y_pos[-1])\n",
    "else:\n",
    "    x_pos.append((N-1))\n",
    "    y_pos.append(y_pos[-1])\n",
    "    "
   ]
  },
  {
   "cell_type": "code",
   "execution_count": null,
   "metadata": {},
   "outputs": [],
   "source": [
    "x_pos = [np.random.randint(0,N)]\n",
    "y_pos = [0]\n",
    "\n",
    "t=0\n",
    "while t<16:\n",
    "    #if [x_pos[-1], y_pos[-1]] in candidates:\n",
    "        #add to cluster and start a new walker by reseting x_pos and y_pos\n",
    "    \n",
    "    #else\n",
    "        step = np.random.randint(0,4)\n",
    "\n",
    "        if step == 0 and y_pos[-1] != 0:\n",
    "            x_pos.append(x_pos[-1])\n",
    "            y_pos.append((y_pos[-1]-1))\n",
    "        elif step == 0 and y_pos[-1] == 0:\n",
    "            x_pos.append(np.random.randint(0,N))\n",
    "            y_pos.append(0)\n",
    "        elif step == 1 and y_pos[-1] != (N-1):\n",
    "            x_pos.append(x_pos[-1])\n",
    "            y_pos.append((y_pos[-1]+1))\n",
    "        elif step == 1 and y_pos[-1] == (N-1):\n",
    "            x_pos.append(np.random.randint(0,N))\n",
    "            y_pos.append(0)\n",
    "        elif step == 2 and x_pos[-1] != (N-1):\n",
    "            x_pos.append((x_pos[-1]+1))\n",
    "            y_pos.append(y_pos[-1])\n",
    "        elif step == 2 and x_pos[-1] == (N-1):\n",
    "            x_pos.append(0)\n",
    "            y_pos.append(y_pos[-1])\n",
    "        elif step == 3 and x_pos[-1] != 0: \n",
    "            x_pos.append((x_pos[-1]-1))\n",
    "            y_pos.append(y_pos[-1])\n",
    "        else:\n",
    "            x_pos.append((N-1))\n",
    "            y_pos.append(y_pos[-1])\n",
    "\n",
    "    \n"
   ]
  },
  {
   "cell_type": "code",
   "execution_count": null,
   "metadata": {},
   "outputs": [
    {
     "data": {
      "text/plain": [
       "17"
      ]
     },
     "execution_count": 76,
     "metadata": {},
     "output_type": "execute_result"
    }
   ],
   "source": [
    "\n"
   ]
  },
  {
   "cell_type": "code",
   "execution_count": null,
   "metadata": {},
   "outputs": [
    {
     "data": {
      "text/plain": [
       "17"
      ]
     },
     "execution_count": 77,
     "metadata": {},
     "output_type": "execute_result"
    }
   ],
   "source": []
  }
 ],
 "metadata": {
  "kernelspec": {
   "display_name": "Python 3",
   "language": "python",
   "name": "python3"
  },
  "language_info": {
   "codemirror_mode": {
    "name": "ipython",
    "version": 3
   },
   "file_extension": ".py",
   "mimetype": "text/x-python",
   "name": "python",
   "nbconvert_exporter": "python",
   "pygments_lexer": "ipython3",
   "version": "3.11.1"
  }
 },
 "nbformat": 4,
 "nbformat_minor": 2
}
