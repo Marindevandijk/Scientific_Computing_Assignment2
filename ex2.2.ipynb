{
 "cells": [
  {
   "cell_type": "markdown",
   "metadata": {},
   "source": [
    "Exercise 2.2: Monte Carlo simulation of DLA"
   ]
  },
  {
   "cell_type": "code",
   "execution_count": 82,
   "metadata": {},
   "outputs": [],
   "source": [
    "import numpy as np\n",
    "import matplotlib.pyplot as plt\n",
    "import random"
   ]
  },
  {
   "cell_type": "code",
   "execution_count": 125,
   "metadata": {},
   "outputs": [],
   "source": [
    "N = 46"
   ]
  },
  {
   "cell_type": "code",
   "execution_count": 126,
   "metadata": {},
   "outputs": [],
   "source": [
    "def find_candidates(grid):\n",
    "    candidates = []\n",
    "    for i in range(N):\n",
    "        for j in range(N):\n",
    "            if grid[i, j] == 1: \n",
    "                if i + 1 < N and grid[i + 1, j] == 0 and (i + 1, j) not in candidates:\n",
    "                    candidates.append((i + 1, j))\n",
    "                if i - 1 >= 0 and grid[i - 1, j] == 0 and (i - 1, j) not in candidates:\n",
    "                    candidates.append((i - 1, j))\n",
    "                if j + 1 < N and grid[i, j + 1] == 0 and (i, j + 1) not in candidates: #moet deze grid niet ook periodic zijn?\n",
    "                    candidates.append((i, j + 1))\n",
    "                if j - 1 >= 0 and grid[i, j - 1] == 0 and (i, j - 1) not in candidates:\n",
    "                    candidates.append((i, j - 1))\n",
    "    return candidates\n"
   ]
  },
  {
   "cell_type": "code",
   "execution_count": 133,
   "metadata": {},
   "outputs": [],
   "source": [
    "x_pos = [np.random.randint(0,N)]\n",
    "y_pos = [0]\n",
    "\n",
    "MC_DLA_grid = np.zeros((N,N))\n",
    "MC_DLA_grid[N-1,23] = 1 #even zorgen dat dit overeenkomt met de vorige opgave\n",
    "\n",
    "t=0\n",
    "while t<500000:\n",
    "    candidates = find_candidates(MC_DLA_grid)\n",
    "    \n",
    "    if (y_pos[-1],x_pos[-1]) in candidates:\n",
    "        MC_DLA_grid[y_pos[-1],x_pos[-1]] = 1\n",
    "        x_pos.append(np.random.randint(0,N))\n",
    "        y_pos.append(0)\n",
    "    \n",
    "    else:\n",
    "        step = np.random.randint(0,4)\n",
    "\n",
    "        if step == 0 and y_pos[-1] != 0:\n",
    "            x_pos.append(x_pos[-1])\n",
    "            y_pos.append((y_pos[-1]-1))\n",
    "        elif step == 0 and y_pos[-1] == 0:\n",
    "            x_pos.append(np.random.randint(0,N))\n",
    "            y_pos.append(0)\n",
    "        elif step == 1 and y_pos[-1] != (N-1):\n",
    "            x_pos.append(x_pos[-1])\n",
    "            y_pos.append((y_pos[-1]+1))\n",
    "        elif step == 1 and y_pos[-1] == (N-1):\n",
    "            x_pos.append(np.random.randint(0,N))\n",
    "            y_pos.append(0)\n",
    "        elif step == 2 and x_pos[-1] != (N-1):\n",
    "            x_pos.append((x_pos[-1]+1))\n",
    "            y_pos.append(y_pos[-1])\n",
    "        elif step == 2 and x_pos[-1] == (N-1):\n",
    "            x_pos.append(0)\n",
    "            y_pos.append(y_pos[-1])\n",
    "        elif step == 3 and x_pos[-1] != 0: \n",
    "            x_pos.append((x_pos[-1]-1))\n",
    "            y_pos.append(y_pos[-1])\n",
    "        else:\n",
    "            x_pos.append((N-1))\n",
    "            y_pos.append(y_pos[-1])\n",
    "\n",
    "    t += 1\n"
   ]
  },
  {
   "cell_type": "code",
   "execution_count": 134,
   "metadata": {},
   "outputs": [
    {
     "data": {
      "image/png": "[encoded data removed]",
      "text/plain": [
       "<Figure size 640x480 with 1 Axes>"
      ]
     },
     "metadata": {},
     "output_type": "display_data"
    }
   ],
   "source": [
    "plt.imshow(MC_DLA_grid)\n",
    "plt.show()"
   ]
  },
  {
   "cell_type": "code",
   "execution_count": null,
   "metadata": {},
   "outputs": [],
   "source": []
  },
  {
   "cell_type": "code",
   "execution_count": null,
   "metadata": {},
   "outputs": [],
   "source": []
  },
  {
   "cell_type": "code",
   "execution_count": null,
   "metadata": {},
   "outputs": [],
   "source": []
  },
  {
   "cell_type": "code",
   "execution_count": null,
   "metadata": {},
   "outputs": [],
   "source": []
  }
 ],
 "metadata": {
  "kernelspec": {
   "display_name": "Python 3",
   "language": "python",
   "name": "python3"
  },
  "language_info": {
   "codemirror_mode": {
    "name": "ipython",
    "version": 3
   },
   "file_extension": ".py",
   "mimetype": "text/x-python",
   "name": "python",
   "nbconvert_exporter": "python",
   "pygments_lexer": "ipython3",
   "version": "3.11.1"
  }
 },
 "nbformat": 4,
 "nbformat_minor": 2
}
